{
  "nbformat": 4,
  "nbformat_minor": 0,
  "metadata": {
    "colab": {
      "provenance": [],
      "include_colab_link": true
    },
    "kernelspec": {
      "name": "python3",
      "display_name": "Python 3"
    },
    "language_info": {
      "name": "python"
    }
  },
  "cells": [
    {
      "cell_type": "markdown",
      "metadata": {
        "id": "view-in-github",
        "colab_type": "text"
      },
      "source": [
        "<a href=\"https://colab.research.google.com/github/Daniela2319/Logica_de_Programacao_Python/blob/master/Aula6_Tratamento_de_erros_TC5.ipynb\" target=\"_parent\"><img src=\"https://colab.research.google.com/assets/colab-badge.svg\" alt=\"Open In Colab\"/></a>"
      ]
    },
    {
      "cell_type": "markdown",
      "source": [
        "#Estrutura de Repetição"
      ],
      "metadata": {
        "id": "4TVkHg1Ui2YP"
      }
    },
    {
      "cell_type": "code",
      "source": [
        "while #Enquanto\n",
        "\n",
        "for i in range(): #Para...Faça...até"
      ],
      "metadata": {
        "id": "jRd1_0fPi8ou"
      },
      "execution_count": null,
      "outputs": []
    },
    {
      "cell_type": "markdown",
      "source": [
        "##Tratamento de erros"
      ],
      "metadata": {
        "id": "cEoZAuc7jCQe"
      }
    },
    {
      "cell_type": "markdown",
      "source": [
        "Criar uma função que pede ao usuário escolher um número entre 10 e 100, e imprime mensagens de erro diferentes dependendo do tipo de erro."
      ],
      "metadata": {
        "id": "BDtxWOxtjuf1"
      }
    },
    {
      "cell_type": "code",
      "execution_count": null,
      "metadata": {
        "id": "VAFsf1f8pHvC"
      },
      "outputs": [],
      "source": [
        "# @title\n",
        "\n",
        "def mostrar_numero():\n",
        "  numero_valido = False\n",
        "  print(\"Escreva um número menor ou igual a 100.\")\n",
        "\n",
        "  while(numero_valido == False):\n",
        "    try:\n",
        "      num = int(input())\n",
        "      if (num > 100):\n",
        "        print(\"O número precisa ser menor ou igual a 100\")\n",
        "      else:\n",
        "        print(\"Boa! Você escolheu o número: \" + str(num))\n",
        "        numero_valido = True\n",
        "\n",
        "    except:\n",
        "      print(\"O valor inserido dever ser um número inteiro.\")\n",
        "\n",
        "mostrar_numero()"
      ]
    },
    {
      "cell_type": "markdown",
      "source": [
        "Essa variável numero_valido está sendo usada para controlar o loop while. O loop while continua executando enquanto a condição dentro dos parênteses é verdadeira. Neste caso, a condição é numero_valido == False, o que significa que o loop continua enquanto numero_valido for igual a False.\n",
        "\n",
        "O objetivo de inicializar numero_valido com False é garantir que o loop comece executando, mesmo que o usuário ainda não tenha inserido um número válido. Isso permite que o programa entre no loop e comece a solicitar a entrada do usuário. Somente quando o usuário inserir um número válido, numero_valido será alterado para True e o loop terminará."
      ],
      "metadata": {
        "id": "6a1hej8bkAwu"
      }
    },
    {
      "cell_type": "markdown",
      "source": [
        "Dentro do loop, há uma tentativa (try) de pegar a entrada do usuário e converter para um número inteiro (int(input())). Se isso for bem-sucedido, o programa verifica se o número é maior que 100. Se for, ele exibe uma mensagem e pede outro número. Se não, ele exibe uma mensagem de sucesso e muda o valor de numero_valido para True."
      ],
      "metadata": {
        "id": "IvIWud8ikcc8"
      }
    },
    {
      "cell_type": "code",
      "source": [
        "try"
      ],
      "metadata": {
        "id": "EEuTOC4Pk5TF"
      },
      "execution_count": null,
      "outputs": []
    },
    {
      "cell_type": "markdown",
      "source": [
        "\n",
        "O bloco `try` é uma estrutura em Python que permite lidar com exceções, ou seja, situações inesperadas ou erros que podem ocorrer durante a execução de um programa. Ele é usado para \"tentar\" executar um bloco de código e capturar possíveis erros que possam ocorrer.\n",
        "\n",
        "Aqui está uma explicação mais detalhada:\n",
        "\n",
        "1. **`try:`** - Começamos com a palavra-chave `try`, seguida de dois pontos `:`. Isso indica o início do bloco onde queremos monitorar possíveis erros.\n",
        "\n",
        "2. **Código Suscetível a Erros** - Dentro do bloco `try`, colocamos o código que pode gerar um erro. No caso do seu programa, a linha `num = int(input())` é colocada dentro do bloco `try`. Esta linha está sujeita a possíveis erros, por exemplo, se o usuário inserir algo que não possa ser convertido em um número inteiro.\n",
        "\n",
        "3. **`except:`** - Se ocorrer um erro dentro do bloco `try`, o Python irá parar a execução normal do programa e procurar por um bloco `except` correspondente. Se encontrar, executa o código dentro dele.\n",
        "\n",
        "4. **Tratamento de Exceção** - No seu caso, o bloco `except:` lida com a exceção que pode ocorrer quando o usuário insere algo que não é um número inteiro. Ele exibe a mensagem \"O valor inserido deve ser um número inteiro.\" no console.\n",
        "\n",
        "Resumindo, o bloco `try` permite que você monitore e lide com possíveis erros de forma controlada, sem interromper o programa completamente. Isso é especialmente útil quando se lida com entrada de usuário, onde não se pode ter certeza do que será inserido.\n",
        "\n"
      ],
      "metadata": {
        "id": "UcG2QkNFk6dV"
      }
    },
    {
      "cell_type": "code",
      "source": [],
      "metadata": {
        "id": "qXUFpFX-lJyF"
      },
      "execution_count": null,
      "outputs": []
    },
    {
      "cell_type": "markdown",
      "source": [
        "O `try` e o `except` são como um \"plano B\" em Python. Eles nos ajudam quando algo inesperado acontece no código.\n",
        "\n",
        "- **`try:`** É como dizer: \"Tente fazer isso, mas se algo der errado, não pare o programa.\"\n",
        "\n",
        "- **`except:`** É como o plano de backup. Se algo der errado dentro do `try`, o código dentro do `except` é executado.\n",
        "\n",
        "Por exemplo, se você pede para alguém digitar um número, mas a pessoa escreve uma palavra em vez disso, o programa daria um erro. Mas com o `try` e o `except`, podemos lidar com isso de uma forma mais gentil, como mostrar uma mensagem de erro amigável.\n",
        "\n",
        "Resumindo, o `try` e o `except` ajudam a lidar com situações inesperadas no código, garantindo que o programa não pare por completo se algo der errado."
      ],
      "metadata": {
        "id": "gOI6NQjPngOs"
      }
    },
    {
      "cell_type": "code",
      "source": [
        "try:\n",
        "    numero = int(input(\"Digite um número inteiro: \"))\n",
        "    print(\"Você digitou o número:\", numero)\n",
        "except ValueError:\n",
        "    print(\"Oops! Isso não é um número inteiro válido.\")\n"
      ],
      "metadata": {
        "id": "KII27HRUoPCM"
      },
      "execution_count": null,
      "outputs": []
    },
    {
      "cell_type": "markdown",
      "source": [
        "Neste exemplo, o programa pede ao usuário para digitar um número inteiro. Se o usuário digitar algo que não pode ser convertido em um número inteiro (por exemplo, uma palavra ou um número com ponto decimal), ocorrerá um erro chamado ValueError.\n",
        "\n",
        "O try nos permite tentar executar o código dentro dele. No caso, tentamos converter a entrada do usuário em um número inteiro.\n",
        "\n",
        "Se a conversão for bem-sucedida, o código dentro do try é executado e o número é impresso na tela. Mas se ocorrer um erro (por exemplo, se o usuário digitar uma palavra), o programa não irá parar. Em vez disso, ele irá para o bloco except e imprime a mensagem de erro.\n",
        "\n",
        "Espero que esse exemplo ajude a entender como o try e except funcionam! Se tiver mais perguntas ou precisar de mais exemplos, fique à vontade para perguntar."
      ],
      "metadata": {
        "id": "sFEtv3erodXD"
      }
    },
    {
      "cell_type": "code",
      "source": [
        "ValueError"
      ],
      "metadata": {
        "id": "gD4xpVdDofAj"
      },
      "execution_count": null,
      "outputs": []
    },
    {
      "cell_type": "markdown",
      "source": [
        "`ValueError` é um tipo de exceção em Python que ocorre quando uma função recebe um argumento com o tipo certo, mas um valor inadequado. No exemplo que demos, o `ValueError` ocorre quando tentamos converter uma entrada do usuário em um número inteiro usando `int()`, mas a entrada não é um número válido.\n",
        "\n",
        "Por exemplo, se o usuário digitar uma palavra em vez de um número inteiro, como \"abc\", ao tentar converter isso para um inteiro, ocorrerá um `ValueError` porque não é possível converter a palavra \"abc\" em um número inteiro.\n",
        "\n",
        "O uso do `try` e `except` ajuda a lidar com esses tipos de situações, permitindo que o programa continue executando mesmo quando ocorrem erros. Dessa forma, o programa não quebra e o usuário recebe uma mensagem de erro mais amigável em vez de uma mensagem de erro padrão do Python."
      ],
      "metadata": {
        "id": "pZ7SH6XDopUz"
      }
    },
    {
      "cell_type": "markdown",
      "source": [
        "###Exemplo\n"
      ],
      "metadata": {
        "id": "MYolktJqpLZD"
      }
    },
    {
      "cell_type": "code",
      "source": [
        "def dividir_numeros():\n",
        "    try:\n",
        "        num1 = int(input(\"Digite o numerador: \"))\n",
        "        num2 = int(input(\"Digite o denominador: \"))\n",
        "\n",
        "        resultado = num1 / num2\n",
        "\n",
        "        print(f\"O resultado da divisão é: {resultado}\")\n",
        "    except ValueError:\n",
        "        print(\"Erro: Certifique-se de digitar números inteiros.\")\n",
        "    except ZeroDivisionError:\n",
        "        print(\"Erro: Não é possível dividir por zero.\")\n",
        "    except Exception as e:\n",
        "        print(f\"Ocorreu um erro inesperado: {e}\")\n",
        "\n",
        "dividir_numeros()\n"
      ],
      "metadata": {
        "id": "8m5II5ogpOIT"
      },
      "execution_count": null,
      "outputs": []
    },
    {
      "cell_type": "markdown",
      "source": [
        "Neste exemplo, o programa pede ao usuário para inserir dois números, que serão o numerador e o denominador de uma divisão. Ele tenta realizar a divisão e exibir o resultado.\n",
        "\n",
        "O bloco try é onde o código que pode gerar um erro é colocado. Neste caso, a conversão para inteiro (int()) e a divisão podem gerar erros.\n",
        "\n",
        "Os blocos except lidam com diferentes tipos de erros:\n",
        "\n",
        "ValueError trata o caso em que o usuário não insere um número inteiro.\n",
        "ZeroDivisionError trata o caso em que o usuário tenta dividir por zero.\n",
        "O último bloco except (que usa Exception as e) captura qualquer outro tipo de erro inesperado.\n",
        "Dessa forma, você pode explicar para seus alunos como o programa tenta executar o código no try, mas se um erro específico ocorrer, ele irá para o bloco except correspondente para lidar com o erro de forma apropriada."
      ],
      "metadata": {
        "id": "3aTnh1dgpRfM"
      }
    },
    {
      "cell_type": "markdown",
      "source": [
        "#Exemplo usando a condicional"
      ],
      "metadata": {
        "id": "xvpI5rv3qxKx"
      }
    },
    {
      "cell_type": "code",
      "source": [
        "def mostra_numero():\n",
        "    print(\"Escreva um número de 0 a 100.\")\n",
        "    numero_valido = False\n",
        "\n",
        "    while not numero_valido:\n",
        "        try:\n",
        "            numero = int(input())\n",
        "\n",
        "            if numero > 100 or numero < 0:\n",
        "                print(\"O número precisa estar entre 0 e 100\")\n",
        "            else:\n",
        "                print(\"Você escolheu o número:\", numero)\n",
        "                numero_valido = True\n",
        "        except ValueError:\n",
        "            print(\"Digite um número válido\")\n",
        "\n",
        "mostra_numero()\n"
      ],
      "metadata": {
        "id": "FCBoGkTUq3Vk"
      },
      "execution_count": null,
      "outputs": []
    },
    {
      "cell_type": "markdown",
      "source": [
        "#Alguns desafios"
      ],
      "metadata": {
        "id": "TRBR2TvFrd4w"
      }
    },
    {
      "cell_type": "markdown",
      "source": [
        "##Desafío médio"
      ],
      "metadata": {
        "id": "AQ2OkkZP4r-D"
      }
    },
    {
      "cell_type": "code",
      "source": [
        "def mostrarNumero():\n",
        "  print(\"Digite um número par\")\n",
        "  numero_valido = False\n",
        "\n",
        "  while(numero_valido == False):\n",
        "    try:\n",
        "      num = int(input())\n",
        "      if(num % 2 != 0):\n",
        "        print(\"O número precisa ser par\")\n",
        "      else:\n",
        "        print(\"Boa! \" + str(num) + \" é um número par.\")\n",
        "        numero_valido = True\n",
        "    except:\n",
        "      print(\"Precisa digitar um número inteiro\")\n",
        "\n",
        "mostrarNumero()"
      ],
      "metadata": {
        "id": "BR8gLqkv4uqu"
      },
      "execution_count": null,
      "outputs": []
    },
    {
      "cell_type": "markdown",
      "source": [
        "Essa função pede ao usuário para inserir um número par e verifica se o número inserido é realmente par. Se for, ele é exibido. Caso contrário, uma mensagem de erro é mostrada."
      ],
      "metadata": {
        "id": "TaGRyyFpnC4l"
      }
    },
    {
      "cell_type": "markdown",
      "source": [
        "##Desafío difícil"
      ],
      "metadata": {
        "id": "9zjCSiQj5SzT"
      }
    },
    {
      "cell_type": "code",
      "source": [
        "def mostrarNumero():\n",
        "  print(\"Digite um número par\")\n",
        "  numero_valido = False\n",
        "\n",
        "  while(numero_valido == False):\n",
        "    try:\n",
        "      num = int(input())\n",
        "      if(num % 2 != 0) and (num % 3 != 0):\n",
        "        print(\"O número precisa ser divisível por 2 e 3\")\n",
        "      elif(num % 2 != 0):\n",
        "        print(\"O número precisa ser também divisível por 2\")\n",
        "      elif(num % 3 != 0):\n",
        "        print(\"O número precisa ser também divisível por 3\")\n",
        "      else:\n",
        "        print(\"Boa! \" + str(num) + \" é divisível por 2 e 3.\")\n",
        "        numero_valido = True\n",
        "    except:\n",
        "      print(\"Precisa digitar um número inteiro\")\n",
        "\n",
        "mostrarNumero()"
      ],
      "metadata": {
        "id": "fHKioHG_5VXg"
      },
      "execution_count": null,
      "outputs": []
    },
    {
      "cell_type": "markdown",
      "source": [
        "Essa função pede ao usuário para inserir um número e verifica se ele é divisível por 2 e por 3. Se o número atender a essa condição, ele é exibido. Caso contrário, são feitas verificações adicionais para ver se o número é divisível apenas por 2 ou apenas por 3. Se o número for válido, ele é exibido. Caso contrário, uma mensagem de erro é mostrada.\n",
        "\n",
        "Todas essas funções têm uma estrutura similar com um loop while que continua até que um número válido seja inserido. Elas também utilizam o bloco try e except para lidar com possíveis erros ao converter a entrada do usuário em um número inteiro.\n",
        "\n"
      ],
      "metadata": {
        "id": "xJr-wHacnJdk"
      }
    },
    {
      "cell_type": "code",
      "source": [],
      "metadata": {
        "id": "Ovp1EycMnKl0"
      },
      "execution_count": null,
      "outputs": []
    }
  ]
}