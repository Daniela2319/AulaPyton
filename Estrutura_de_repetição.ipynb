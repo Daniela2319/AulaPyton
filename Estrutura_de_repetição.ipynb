{
  "nbformat": 4,
  "nbformat_minor": 0,
  "metadata": {
    "colab": {
      "provenance": [],
      "authorship_tag": "ABX9TyPrIs4qLBcXq9QkpzCF5ESs",
      "include_colab_link": true
    },
    "kernelspec": {
      "name": "python3",
      "display_name": "Python 3"
    },
    "language_info": {
      "name": "python"
    }
  },
  "cells": [
    {
      "cell_type": "markdown",
      "metadata": {
        "id": "view-in-github",
        "colab_type": "text"
      },
      "source": [
        "<a href=\"https://colab.research.google.com/github/Daniela2319/AulaPyton/blob/master/Estrutura_de_repeti%C3%A7%C3%A3o.ipynb\" target=\"_parent\"><img src=\"https://colab.research.google.com/assets/colab-badge.svg\" alt=\"Open In Colab\"/></a>"
      ]
    },
    {
      "cell_type": "markdown",
      "source": [
        "# **Estrutura de Repetição**\n"
      ],
      "metadata": {
        "id": "CfOLhGDHqW8_"
      }
    },
    {
      "cell_type": "code",
      "execution_count": null,
      "metadata": {
        "id": "SgLc79dbqRlU"
      },
      "outputs": [],
      "source": [
        "#percorrer uma lista\n",
        "lista_produtos = ['tv', 'celular', 'notebok', 'relogio']\n",
        "for produto in lista_produtos:\n",
        "  print(produto)"
      ]
    },
    {
      "cell_type": "code",
      "source": [
        "#calcular o imposto sobre vários valores\n",
        "lista_precos = [10, 20, 100, 40]\n",
        "for preco in lista_precos:\n",
        "  imposto = preco*0.1\n",
        "  print(imposto)"
      ],
      "metadata": {
        "id": "BbkC-N_YrU0H"
      },
      "execution_count": null,
      "outputs": []
    },
    {
      "cell_type": "code",
      "source": [
        "#percorrendo um dicionario\n",
        "produtos = {\n",
        "    'tv': 10,\n",
        "    'celular': 20,\n",
        "    'notebok': 100,\n",
        "    'relogio': 40,\n",
        "}\n",
        "for produto in produtos:\n",
        "  print(produto)\n",
        "  print(produtos[produto])"
      ],
      "metadata": {
        "id": "RCsGQBaBsM8m"
      },
      "execution_count": null,
      "outputs": []
    },
    {
      "cell_type": "markdown",
      "source": [
        "## **Range**"
      ],
      "metadata": {
        "id": "5FKcLauXt09P"
      }
    },
    {
      "cell_type": "code",
      "source": [
        "i = 0\n",
        "\n",
        "while (i<=6):\n",
        "\n",
        "  regar = str(i)\n",
        "\n",
        "  print('regar planta' + regar)\n",
        "\n",
        "  i+=1"
      ],
      "metadata": {
        "id": "IUy_bu73uE-P"
      },
      "execution_count": null,
      "outputs": []
    },
    {
      "cell_type": "code",
      "source": [
        "for i in range(0,5,2):\n",
        "  print(i)"
      ],
      "metadata": {
        "colab": {
          "base_uri": "https://localhost:8080/"
        },
        "id": "lQC3Ce0PnYJv",
        "outputId": "9bb3a285-73df-43bd-85f3-c56ab7c1c9cf"
      },
      "execution_count": 2,
      "outputs": [
        {
          "output_type": "stream",
          "name": "stdout",
          "text": [
            "0\n",
            "2\n",
            "4\n"
          ]
        }
      ]
    }
  ]
}